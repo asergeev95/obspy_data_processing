{
 "cells": [
  {
   "cell_type": "code",
   "execution_count": 270,
   "metadata": {},
   "outputs": [],
   "source": [
    "import numpy as np\n",
    "import numpy.ma as ma\n",
    "import pandas as pd\n",
    "import matplotlib as plt\n",
    "from obspy import read, read_inventory\n",
    "from obspy.core import UTCDateTime\n",
    "from obspy.core.stream import Stream"
   ]
  },
  {
   "cell_type": "code",
   "execution_count": 244,
   "metadata": {},
   "outputs": [],
   "source": [
    "min_filtering_frequency = 0.1\n",
    "max_filtering_frequency = 30\n",
    "\n",
    "root_folder = \"data\"\n",
    "ud01_data_folder_path = root_folder+\"/UD01\"\n",
    "ud02_data_folder_path = root_folder+\"/UD02\"\n",
    "ud03_data_folder_path = root_folder+\"/UD03\"\n",
    "ud04_data_folder_path = root_folder+\"/UD04\"\n",
    "\n",
    "directions_data_folders = [\"6d97e2\", \"6d97n2\"]"
   ]
  },
  {
   "cell_type": "code",
   "execution_count": 245,
   "metadata": {},
   "outputs": [],
   "source": [
    "def process_station_data(station_data_folder):\n",
    "    import os \n",
    "    station_data = Stream()\n",
    "    for direction in directions_data_folders:\n",
    "        direction_stream = Stream()\n",
    "        data_folder = station_data_folder+\"/\"+direction\n",
    "        for filename in os.listdir(data_folder):\n",
    "            direction_stream+=read(data_folder+\"/\"+filename)\n",
    "        direction_stream.merge()\n",
    "        station_data+=direction_stream\n",
    "    return station_data"
   ]
  },
  {
   "cell_type": "code",
   "execution_count": 246,
   "metadata": {},
   "outputs": [],
   "source": [
    "first_station_data = process_station_data(ud01_data_folder_path)\n",
    "# first_station_data += process_station_data(ud02_data_folder_path)\n",
    "# first_station_data += process_station_data(ud03_data_folder_path)\n",
    "# first_station_data += process_station_data(ud04_data_folder_path)\n"
   ]
  },
  {
   "cell_type": "markdown",
   "metadata": {},
   "source": [
    "1. слепить всё в кучу\n",
    "2. получим объект Stream, его len будет равен количеству трасс\n",
    "3. находим максимальное количество элементов в трассе\n",
    "4. запускаем цикл от 0 до этого количества\n",
    "5. каждому времени в tr.times() соответствует один элемент в tr.data\n",
    "6. создаём list в котором будут tuple's вида ( <время>, <количество трасс> )\n",
    "7. перебираем tr.data[i], если там не None (скорее всего будет None, если данных нет, нужно проверить), то увеличиваем счётчик \n",
    "    количества трасс\n",
    "8. перебрав все трассы сохраняем в list нужный tuple. \n",
    "9. берём следующий индекс"
   ]
  },
  {
   "cell_type": "code",
   "execution_count": 19,
   "metadata": {},
   "outputs": [],
   "source": [
    "class CustomStream(Stream):\n",
    "    def __init__(self, stream):\n",
    "        self.traces_stats = list()\n",
    "        self.stream = stream"
   ]
  },
  {
   "cell_type": "code",
   "execution_count": 56,
   "metadata": {},
   "outputs": [
    {
     "name": "stdout",
     "output_type": "stream",
     "text": [
      "360000\n"
     ]
    }
   ],
   "source": [
    "max = 0\n",
    "for i in range(len(first_station_data)):\n",
    "    trace = first_station_data[i]\n",
    "    length = len(trace)\n",
    "    if length > max:\n",
    "        max = length\n",
    "print(max)"
   ]
  },
  {
   "cell_type": "code",
   "execution_count": null,
   "metadata": {},
   "outputs": [
    {
     "name": "stdout",
     "output_type": "stream",
     "text": []
    }
   ],
   "source": [
    "stats_list = list()\n",
    "times = first_station_data[0].times()\n",
    "number_of_traces = len(first_station_data)\n",
    "for time in times:\n",
    "    number_of_active_traces = 0\n",
    "    index = np.where(times==time)[0][0]\n",
    "    for i in range(number_of_traces):\n",
    "        trace = first_station_data[i]\n",
    "        if trace.data[index] != None:\n",
    "            number_of_active_traces+=1\n",
    "    stats_list.append((time, number_of_active_traces))"
   ]
  },
  {
   "cell_type": "markdown",
   "metadata": {},
   "source": [
    "1. вырезать куски данных, где происходили события. например, из суток возникает 3 файла. это будет триггер. \n",
    "2. матрица данных, вектор времён, какая трасса какой компоненте и какой станции соответствует, массив количества живых трасс - сделать свой класс. "
   ]
  },
  {
   "cell_type": "markdown",
   "metadata": {},
   "source": [
    "1. эти триггеры отдавать Елизавете\n",
    "2. (Л)подобрать параметры для автоматического триггирования\n",
    "3. далее пытаемся применить машинное обучение с полученным параметром триггирования"
   ]
  },
  {
   "cell_type": "markdown",
   "metadata": {},
   "source": [
    "1. считываю все данные\n",
    "2. все data из каждой трассы сохранить в матрицу\n",
    "3. получится огромная матрица данных\n",
    "4. None заменять нулями\n",
    "5. добавить временной ряд\n",
    "6. добавить количество живых трасс\n",
    "7. в объекте так же сохраняем время начало отсчёта, время конца отсчёта"
   ]
  },
  {
   "cell_type": "markdown",
   "metadata": {},
   "source": [
    "1. (Л) выяснить название триггер-файла\n",
    "2. (Л) выяснить длину промежутка"
   ]
  },
  {
   "cell_type": "markdown",
   "metadata": {},
   "source": [
    "1. UDINA_год_месяц_день_час_минута_секунда"
   ]
  },
  {
   "cell_type": "code",
   "execution_count": 171,
   "metadata": {},
   "outputs": [],
   "source": [
    "def trace_preprocessing(data):\n",
    "    station_data = data.copy()\n",
    "    trace1 = s\n",
    "#     for i in range(len(station_data)):\n",
    "\n",
    "    \n",
    "#     print(station_data)\n",
    "#     for (i, trace) in enumerate(station_data):\n",
    "#         print('i = {0}'.format(i))\n",
    "#         copied_trace = trace.copy()\n",
    "#         if hasattr(copied_trace, 'data'):\n",
    "#             print('copied_trace = {0}'.format(copied_trace))\n",
    "#             if hasattr(copied_trace.data, 'mask'):\n",
    "#                 print('remove bad data')\n",
    "#                 indexes = np.where(copied_trace.data.mask == True)\n",
    "#                 print('indexes = {0}'.format(indexes))\n",
    "#                 copied_trace.data.data[indexes] = 0\n",
    "#                 trace.data = copied_trace.data.data\n",
    "#                 station_data[i].data = trace.data\n",
    "    return station_data\n",
    "        "
   ]
  },
  {
   "cell_type": "code",
   "execution_count": 247,
   "metadata": {},
   "outputs": [
    {
     "name": "stdout",
     "output_type": "stream",
     "text": [
      "2 Trace(s) in Stream:\n",
      ".6D97..HHE | 2018-05-05T10:00:00.000000Z - 2018-05-05T15:59:59.990000Z | 100.0 Hz, 2160000 samples (masked)\n",
      ".6D97..HHN | 2018-05-05T11:00:00.000000Z - 2018-05-05T15:59:59.990000Z | 100.0 Hz, 1800000 samples (masked)\n",
      "i = 0\n",
      "copied_trace = .6D97..HHE | 2018-05-05T10:00:00.000000Z - 2018-05-05T15:59:59.990000Z | 100.0 Hz, 2160000 samples (masked)\n",
      "remove bad data\n",
      "indexes = (array([ 360000,  360001,  360002, ..., 1799997, 1799998, 1799999],\n",
      "      dtype=int64),)\n",
      "i = 1\n",
      "copied_trace = .6D97..HHN | 2018-05-05T11:00:00.000000Z - 2018-05-05T15:59:59.990000Z | 100.0 Hz, 1800000 samples (masked)\n",
      "remove bad data\n",
      "indexes = (array([ 360000,  360001,  360002, ..., 1439997, 1439998, 1439999],\n",
      "      dtype=int64),)\n"
     ]
    }
   ],
   "source": [
    "normalized_station_data = trace_preprocessing(first_station_data)"
   ]
  },
  {
   "cell_type": "code",
   "execution_count": 248,
   "metadata": {},
   "outputs": [],
   "source": [
    "data_array = []\n",
    "for trace in normalized_station_data.traces:\n",
    "    data_array.append(trace.data)"
   ]
  },
  {
   "cell_type": "code",
   "execution_count": 249,
   "metadata": {},
   "outputs": [
    {
     "data": {
      "text/plain": [
       "[array([23772, 23788, 23702, ...,  9274,  9315,  9333]),\n",
       " array([-19754, -20921, -20072, ...,  -2650,  -2578,  -2649])]"
      ]
     },
     "execution_count": 249,
     "metadata": {},
     "output_type": "execute_result"
    }
   ],
   "source": [
    "data_array"
   ]
  },
  {
   "cell_type": "code",
   "execution_count": 250,
   "metadata": {},
   "outputs": [],
   "source": [
    "length = len(data_array[0])\n",
    "times = normalized_station_data[0].times('utcdatetime')"
   ]
  },
  {
   "cell_type": "code",
   "execution_count": 251,
   "metadata": {},
   "outputs": [
    {
     "data": {
      "text/plain": [
       "2160000"
      ]
     },
     "execution_count": 251,
     "metadata": {},
     "output_type": "execute_result"
    }
   ],
   "source": [
    "len(times)"
   ]
  },
  {
   "cell_type": "code",
   "execution_count": 258,
   "metadata": {},
   "outputs": [
    {
     "ename": "IndexError",
     "evalue": "index 1800000 is out of bounds for axis 0 with size 1800000",
     "output_type": "error",
     "traceback": [
      "\u001b[1;31m---------------------------------------------------------------------------\u001b[0m",
      "\u001b[1;31mIndexError\u001b[0m                                Traceback (most recent call last)",
      "\u001b[1;32m<ipython-input-258-c1a4c1d0d156>\u001b[0m in \u001b[0;36m<module>\u001b[1;34m()\u001b[0m\n\u001b[0;32m      5\u001b[0m         \u001b[0mtrace\u001b[0m \u001b[1;33m=\u001b[0m \u001b[0mdata_array\u001b[0m\u001b[1;33m[\u001b[0m\u001b[0mj\u001b[0m\u001b[1;33m]\u001b[0m\u001b[1;33m\u001b[0m\u001b[0m\n\u001b[0;32m      6\u001b[0m         \u001b[1;31m#print('trace[i] = {0}'.format(trace[i]))\u001b[0m\u001b[1;33m\u001b[0m\u001b[1;33m\u001b[0m\u001b[0m\n\u001b[1;32m----> 7\u001b[1;33m         \u001b[1;32mif\u001b[0m \u001b[0mtrace\u001b[0m\u001b[1;33m[\u001b[0m\u001b[0mi\u001b[0m\u001b[1;33m]\u001b[0m \u001b[1;33m!=\u001b[0m \u001b[1;36m0\u001b[0m\u001b[1;33m:\u001b[0m\u001b[1;33m\u001b[0m\u001b[0m\n\u001b[0m\u001b[0;32m      8\u001b[0m             \u001b[0mtrace_count\u001b[0m\u001b[1;33m+=\u001b[0m\u001b[1;36m1\u001b[0m\u001b[1;33m\u001b[0m\u001b[0m\n\u001b[0;32m      9\u001b[0m \u001b[1;33m\u001b[0m\u001b[0m\n",
      "\u001b[1;31mIndexError\u001b[0m: index 1800000 is out of bounds for axis 0 with size 1800000"
     ]
    }
   ],
   "source": [
    "trace_stats = list()\n",
    "for i in range(length):\n",
    "    trace_count = 0\n",
    "    for j in range(2):\n",
    "        trace = data_array[j]\n",
    "        #print('trace[i] = {0}'.format(trace[i]))\n",
    "        if trace[i] != 0:\n",
    "            trace_count+=1\n",
    "    \n",
    "    trace_stats.append((times[i], trace_count))\n",
    "    "
   ]
  },
  {
   "cell_type": "code",
   "execution_count": 256,
   "metadata": {},
   "outputs": [
    {
     "data": {
      "text/plain": [
       "[(2018-05-05T10:00:00.000000Z, 2)]"
      ]
     },
     "execution_count": 256,
     "metadata": {},
     "output_type": "execute_result"
    }
   ],
   "source": [
    "trace_stats"
   ]
  },
  {
   "cell_type": "code",
   "execution_count": 252,
   "metadata": {},
   "outputs": [
    {
     "data": {
      "image/png": "[encoded data removed]",
      "text/plain": [
       "<Figure size 800x500 with 2 Axes>"
      ]
     },
     "metadata": {},
     "output_type": "display_data"
    }
   ],
   "source": [
    "normalized_station_data.plot()"
   ]
  },
  {
   "cell_type": "code",
   "execution_count": 260,
   "metadata": {},
   "outputs": [
    {
     "name": "stdout",
     "output_type": "stream",
     "text": [
      "2160000\n",
      "1800000\n"
     ]
    }
   ],
   "source": [
    "trace1 = first_station_data[0]\n",
    "trace2 = first_station_data[1]\n",
    "times1 = trace1.times('utcdatetime')\n",
    "times2 = trace2.times('utcdatetime')\n",
    "print(len(times1))\n",
    "print(len(times2))"
   ]
  },
  {
   "cell_type": "code",
   "execution_count": 308,
   "metadata": {},
   "outputs": [
    {
     "data": {
      "text/plain": [
       "numpy.ma.core.MaskedArray"
      ]
     },
     "execution_count": 308,
     "metadata": {},
     "output_type": "execute_result"
    }
   ],
   "source": [
    "type(times1)"
   ]
  },
  {
   "cell_type": "code",
   "execution_count": 264,
   "metadata": {},
   "outputs": [
    {
     "name": "stderr",
     "output_type": "stream",
     "text": [
      "C:\\ProgramData\\Anaconda3\\lib\\site-packages\\ipykernel_launcher.py:1: DeprecationWarning: using a non-integer array as obj in delete will result in an error in the future\n",
      "  \"\"\"Entry point for launching an IPython kernel.\n"
     ]
    },
    {
     "ename": "TypeError",
     "evalue": "int() argument must be a string, a bytes-like object or a number, not 'UTCDateTime'",
     "output_type": "error",
     "traceback": [
      "\u001b[1;31m---------------------------------------------------------------------------\u001b[0m",
      "\u001b[1;31mTypeError\u001b[0m                                 Traceback (most recent call last)",
      "\u001b[1;32m<ipython-input-264-5be32f8b5d05>\u001b[0m in \u001b[0;36m<module>\u001b[1;34m()\u001b[0m\n\u001b[1;32m----> 1\u001b[1;33m \u001b[0mdelta\u001b[0m \u001b[1;33m=\u001b[0m \u001b[0mnp\u001b[0m\u001b[1;33m.\u001b[0m\u001b[0mdelete\u001b[0m\u001b[1;33m(\u001b[0m\u001b[0mtimes1\u001b[0m\u001b[1;33m,\u001b[0m \u001b[0mtimes2\u001b[0m\u001b[1;33m)\u001b[0m\u001b[1;33m\u001b[0m\u001b[0m\n\u001b[0m",
      "\u001b[1;32mC:\\ProgramData\\Anaconda3\\lib\\site-packages\\numpy\\lib\\function_base.py\u001b[0m in \u001b[0;36mdelete\u001b[1;34m(arr, obj, axis)\u001b[0m\n\u001b[0;32m   4877\u001b[0m                 \u001b[1;34m\"using a non-integer array as obj in delete will result in an \"\u001b[0m\u001b[1;33m\u001b[0m\u001b[0m\n\u001b[0;32m   4878\u001b[0m                 \"error in the future\", DeprecationWarning, stacklevel=2)\n\u001b[1;32m-> 4879\u001b[1;33m             \u001b[0mobj\u001b[0m \u001b[1;33m=\u001b[0m \u001b[0mobj\u001b[0m\u001b[1;33m.\u001b[0m\u001b[0mastype\u001b[0m\u001b[1;33m(\u001b[0m\u001b[0mintp\u001b[0m\u001b[1;33m)\u001b[0m\u001b[1;33m\u001b[0m\u001b[0m\n\u001b[0m\u001b[0;32m   4880\u001b[0m         \u001b[0mkeep\u001b[0m \u001b[1;33m=\u001b[0m \u001b[0mones\u001b[0m\u001b[1;33m(\u001b[0m\u001b[0mN\u001b[0m\u001b[1;33m,\u001b[0m \u001b[0mdtype\u001b[0m\u001b[1;33m=\u001b[0m\u001b[0mbool\u001b[0m\u001b[1;33m)\u001b[0m\u001b[1;33m\u001b[0m\u001b[0m\n\u001b[0;32m   4881\u001b[0m \u001b[1;33m\u001b[0m\u001b[0m\n",
      "\u001b[1;31mTypeError\u001b[0m: int() argument must be a string, a bytes-like object or a number, not 'UTCDateTime'"
     ]
    }
   ],
   "source": [
    "delta = np.delete(times1, times2)"
   ]
  },
  {
   "cell_type": "code",
   "execution_count": 265,
   "metadata": {},
   "outputs": [],
   "source": [
    "times1_data = times1.data\n",
    "times2_data = "
   ]
  },
  {
   "cell_type": "code",
   "execution_count": 277,
   "metadata": {},
   "outputs": [],
   "source": [
    "delta = len(times1_data) - len(times2_data)"
   ]
  },
  {
   "cell_type": "code",
   "execution_count": 299,
   "metadata": {},
   "outputs": [
    {
     "name": "stdout",
     "output_type": "stream",
     "text": [
      "[UTCDateTime(2018, 5, 5, 10, 0) UTCDateTime(2018, 5, 5, 10, 0, 0, 10000)\n",
      " UTCDateTime(2018, 5, 5, 10, 0, 0, 20000) ...\n",
      " UTCDateTime(2018, 5, 5, 10, 59, 59, 970000)\n",
      " UTCDateTime(2018, 5, 5, 10, 59, 59, 980000)\n",
      " UTCDateTime(2018, 5, 5, 10, 59, 59, 990000)]\n",
      "[UTCDateTime(2018, 5, 5, 11, 0) UTCDateTime(2018, 5, 5, 11, 0, 0, 10000)\n",
      " UTCDateTime(2018, 5, 5, 11, 0, 0, 20000) ...\n",
      " UTCDateTime(2018, 5, 5, 15, 59, 59, 970000)\n",
      " UTCDateTime(2018, 5, 5, 15, 59, 59, 980000)\n",
      " UTCDateTime(2018, 5, 5, 15, 59, 59, 990000)]\n"
     ]
    }
   ],
   "source": [
    "list1 = times1.data[0:delta]\n",
    "list2 = times2.data\n",
    "print(list1)\n",
    "print(list2)"
   ]
  },
  {
   "cell_type": "code",
   "execution_count": 301,
   "metadata": {},
   "outputs": [
    {
     "name": "stdout",
     "output_type": "stream",
     "text": [
      "[UTCDateTime(2018, 5, 5, 10, 0) UTCDateTime(2018, 5, 5, 10, 0, 0, 10000)\n",
      " UTCDateTime(2018, 5, 5, 10, 0, 0, 20000) ...\n",
      " UTCDateTime(2018, 5, 5, 15, 59, 59, 970000)\n",
      " UTCDateTime(2018, 5, 5, 15, 59, 59, 980000)\n",
      " UTCDateTime(2018, 5, 5, 15, 59, 59, 990000)]\n"
     ]
    }
   ],
   "source": [
    "data = np.concatenate([list1, list2])\n",
    "len(data)\n",
    "print(data)"
   ]
  },
  {
   "cell_type": "code",
   "execution_count": 303,
   "metadata": {},
   "outputs": [],
   "source": [
    "new_times = ma.masked_array(data, mask=np.concatenate([times1.mask[:delta],times2.mask]))"
   ]
  },
  {
   "cell_type": "code",
   "execution_count": 304,
   "metadata": {},
   "outputs": [
    {
     "data": {
      "text/plain": [
       "masked_array(data=[UTCDateTime(2018, 5, 5, 10, 0),\n",
       "                   UTCDateTime(2018, 5, 5, 10, 0, 0, 10000),\n",
       "                   UTCDateTime(2018, 5, 5, 10, 0, 0, 20000), ...,\n",
       "                   UTCDateTime(2018, 5, 5, 15, 59, 59, 970000),\n",
       "                   UTCDateTime(2018, 5, 5, 15, 59, 59, 980000),\n",
       "                   UTCDateTime(2018, 5, 5, 15, 59, 59, 990000)],\n",
       "             mask=[False, False, False, ..., False, False, False],\n",
       "       fill_value='?',\n",
       "            dtype=object)"
      ]
     },
     "execution_count": 304,
     "metadata": {},
     "output_type": "execute_result"
    }
   ],
   "source": [
    "new_times"
   ]
  },
  {
   "cell_type": "code",
   "execution_count": 306,
   "metadata": {},
   "outputs": [],
   "source": [
    "normalized_station_data[0].times = new_times"
   ]
  },
  {
   "cell_type": "code",
   "execution_count": 310,
   "metadata": {},
   "outputs": [
    {
     "ename": "TypeError",
     "evalue": "'MaskedArray' object is not callable",
     "output_type": "error",
     "traceback": [
      "\u001b[1;31m---------------------------------------------------------------------------\u001b[0m",
      "\u001b[1;31mTypeError\u001b[0m                                 Traceback (most recent call last)",
      "\u001b[1;32m<ipython-input-310-b4fd5c66c4b1>\u001b[0m in \u001b[0;36m<module>\u001b[1;34m()\u001b[0m\n\u001b[1;32m----> 1\u001b[1;33m \u001b[0mnormalized_station_data\u001b[0m\u001b[1;33m[\u001b[0m\u001b[1;36m0\u001b[0m\u001b[1;33m]\u001b[0m\u001b[1;33m.\u001b[0m\u001b[0mtimes\u001b[0m\u001b[1;33m(\u001b[0m\u001b[1;33m)\u001b[0m\u001b[1;33m\u001b[0m\u001b[0m\n\u001b[0m",
      "\u001b[1;31mTypeError\u001b[0m: 'MaskedArray' object is not callable"
     ]
    }
   ],
   "source": [
    "normalized_station_data[0].times()"
   ]
  },
  {
   "cell_type": "code",
   "execution_count": 311,
   "metadata": {},
   "outputs": [],
   "source": [
    "trace1 = first_station_data[0]"
   ]
  },
  {
   "cell_type": "code",
   "execution_count": 312,
   "metadata": {},
   "outputs": [
    {
     "data": {
      "text/plain": [
       ".6D97..HHE | 2018-05-05T10:00:00.000000Z - 2018-05-05T15:59:59.990000Z | 100.0 Hz, 2160000 samples (masked)"
      ]
     },
     "execution_count": 312,
     "metadata": {},
     "output_type": "execute_result"
    }
   ],
   "source": [
    "trace1"
   ]
  },
  {
   "cell_type": "code",
   "execution_count": 313,
   "metadata": {},
   "outputs": [
    {
     "data": {
      "text/plain": [
       "         network: \n",
       "         station: 6D97\n",
       "        location: \n",
       "         channel: HHE\n",
       "       starttime: 2018-05-05T10:00:00.000000Z\n",
       "         endtime: 2018-05-05T15:59:59.990000Z\n",
       "   sampling_rate: 100.0\n",
       "           delta: 0.01\n",
       "            npts: 2160000\n",
       "           calib: 1.0\n",
       "         _format: MSEED\n",
       "           mseed: AttribDict({'dataquality': 'D', 'number_of_records': 129, 'encoding': 'STEIM1', 'byteorder': '>', 'record_length': 4096, 'filesize': 528384})"
      ]
     },
     "execution_count": 313,
     "metadata": {},
     "output_type": "execute_result"
    }
   ],
   "source": [
    "trace1.stats"
   ]
  },
  {
   "cell_type": "code",
   "execution_count": 314,
   "metadata": {},
   "outputs": [
    {
     "data": {
      "text/plain": [
       "         network: \n",
       "         station: 6D97\n",
       "        location: \n",
       "         channel: HHN\n",
       "       starttime: 2018-05-05T11:00:00.000000Z\n",
       "         endtime: 2018-05-05T15:59:59.990000Z\n",
       "   sampling_rate: 100.0\n",
       "           delta: 0.01\n",
       "            npts: 1800000\n",
       "           calib: 1.0\n",
       "         _format: MSEED\n",
       "           mseed: AttribDict({'dataquality': 'D', 'number_of_records': 134, 'encoding': 'STEIM1', 'byteorder': '>', 'record_length': 4096, 'filesize': 548864})"
      ]
     },
     "execution_count": 314,
     "metadata": {},
     "output_type": "execute_result"
    }
   ],
   "source": [
    "trace2.stats"
   ]
  },
  {
   "cell_type": "code",
   "execution_count": 322,
   "metadata": {},
   "outputs": [
    {
     "data": {
      "text/plain": [
       "         network: \n",
       "         station: 6D97\n",
       "        location: \n",
       "         channel: HHN\n",
       "       starttime: 2018-05-05T10:00:00.000000Z\n",
       "         endtime: 2018-05-05T15:59:59.990000Z\n",
       "   sampling_rate: 100.0\n",
       "           delta: 0.01\n",
       "            npts: 2160000\n",
       "           calib: 1.0\n",
       "         _format: MSEED\n",
       "           mseed: AttribDict({'dataquality': 'D', 'number_of_records': 134, 'encoding': 'STEIM1', 'byteorder': '>', 'record_length': 4096, 'filesize': 548864})"
      ]
     },
     "execution_count": 322,
     "metadata": {},
     "output_type": "execute_result"
    }
   ],
   "source": [
    "trace2.stats"
   ]
  },
  {
   "cell_type": "code",
   "execution_count": 319,
   "metadata": {},
   "outputs": [
    {
     "data": {
      "text/plain": [
       "2018-05-05T15:59:59.990000Z"
      ]
     },
     "execution_count": 319,
     "metadata": {},
     "output_type": "execute_result"
    }
   ],
   "source": [
    "new_times[len(new_times)-1]"
   ]
  },
  {
   "cell_type": "code",
   "execution_count": 323,
   "metadata": {},
   "outputs": [
    {
     "data": {
      "image/png": "[encoded data removed]",
      "text/plain": [
       "<Figure size 800x250 with 1 Axes>"
      ]
     },
     "metadata": {},
     "output_type": "display_data"
    }
   ],
   "source": [
    "trace2.plot()"
   ]
  },
  {
   "cell_type": "code",
   "execution_count": 324,
   "metadata": {},
   "outputs": [
    {
     "data": {
      "image/png": "[encoded data removed]",
      "text/plain": [
       "<Figure size 800x250 with 1 Axes>"
      ]
     },
     "metadata": {},
     "output_type": "display_data"
    }
   ],
   "source": [
    "trace1.plot()"
   ]
  },
  {
   "cell_type": "code",
   "execution_count": null,
   "metadata": {},
   "outputs": [],
   "source": []
  }
 ],
 "metadata": {
  "kernelspec": {
   "display_name": "Python 3",
   "language": "python",
   "name": "python3"
  },
  "language_info": {
   "codemirror_mode": {
    "name": "ipython",
    "version": 3
   },
   "file_extension": ".py",
   "mimetype": "text/x-python",
   "name": "python",
   "nbconvert_exporter": "python",
   "pygments_lexer": "ipython3",
   "version": "3.6.5"
  }
 },
 "nbformat": 4,
 "nbformat_minor": 2
}
