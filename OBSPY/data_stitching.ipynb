{
	"cells": [{
			"cell_type": "code",
			"execution_count": 15,
			"metadata": {},
			"outputs": [],
			"source": [
				"import numpy as np\n",
				"from obspy import read, read_inventory\n",
				"from obspy.core import UTCDateTime\n",
				"from obspy.core.stream import Stream"
			]
		},
		{
			"cell_type": "code",
			"execution_count": 65,
			"metadata": {},
			"outputs": [],
			"source": [
				"min_filtering_frequency = 0.1\n",
				"max_filtering_frequency = 30\n",
				"\n",
				"root_folder = \"data\"\n",
				"# root_folder = \"E:\\\\UDINA_2018\\\\miniSEED\"\n",
				"ud01_data_folder_path = root_folder+\"\\\\UD01\"\n",
				"ud02_data_folder_path = root_folder+\"\\\\UD02\"\n",
				"ud03_data_folder_path = root_folder+\"\\\\UD03\"\n",
				"ud04_data_folder_path = root_folder+\"\\\\UD04\"\n",
				"\n",
				"# directions_data_folders = [\"6d97e2\", \"6d97n2\", \"6d97z2\"]\n",
				"directions_data_folders = [\"6d97e2\", \"6d97n2\",]"
			]
		},
		{
			"cell_type": "code",
			"execution_count": 66,
			"metadata": {},
			"outputs": [],
			"source": [
				"def process_station_data(station_data_folder):\n",
				"    import os \n",
				"    station_data = Stream()\n",
				"    for direction in directions_data_folders:\n",
				"        data_folder = station_data_folder+\"/\"+direction\n",
				"        for filename in os.listdir(data_folder):\n",
				"            station_data+=read(data_folder+\"/\"+filename)\n",
				"            \n",
				"    return station_data"
			]
		},
		{
			"cell_type": "code",
			"execution_count": 68,
			"metadata": {},
			"outputs": [],
			"source": [
				"first_station_data = process_station_data(ud01_data_folder_path)\n",
				"# first_station_data += process_station_data(ud02_data_folder_path)\n",
				"# first_station_data += process_station_data(ud03_data_folder_path)\n",
				"# first_station_data += process_station_data(ud04_data_folder_path)\n"
			]
		},
		{
			"cell_type": "markdown",
			"metadata": {},
			"source": [
				"1. слепить всё в кучу\n",
				"2. получим объект Stream, его len будет равен количеству трасс\n",
				"3. находим максимальное количество элементов в трассе\n",
				"4. запускаем цикл от 0 до этого количества\n",
				"5. каждому времени в tr.times() соответствует один элемент в tr.data\n",
				"6. создаём list в котором будут tuple's вида ( <время>, <количество трасс> )\n",
				"7. перебираем tr.data[i], если там не None (скорее всего будет None, если данных нет, нужно проверить), то увеличиваем счётчик \n",
				"    количества трасс\n",
				"8. перебрав все трассы сохраняем в list нужный tuple. \n",
				"9. берём следующий индекс"
			]
		},
		{
			"cell_type": "code",
			"execution_count": 19,
			"metadata": {},
			"outputs": [],
			"source": [
				"class CustomStream(Stream):\n",
				"    def __init__(self, stream):\n",
				"        self.traces_stats = list()\n",
				"        self.stream = stream"
			]
		},
		{
			"cell_type": "code",
			"execution_count": 56,
			"metadata": {},
			"outputs": [{
				"name": "stdout",
				"output_type": "stream",
				"text": [
					"360000\n"
				]
			}],
			"source": [
				"max = 0\n",
				"for i in range(len(first_station_data)):\n",
				"    trace = first_station_data[i]\n",
				"    length = len(trace)\n",
				"    if length > max:\n",
				"        max = length\n",
				"print(max)"
			]
		},
		{
			"cell_type": "code",
			"execution_count": null,
			"metadata": {},
			"outputs": [{
				"name": "stdout",
				"output_type": "stream",
                "text": [
					
				]
			}],
			"source": [
				"stats_list = list()\n",
				"times = first_station_data[0].times()\n",
				"number_of_traces = len(first_station_data)\n",
				"print('# times = {0}'.format(len(times)))\n",
				"print('#traces = {0}'.format(number_of_traces))\n",
				"for time in times:\n",
				"    number_of_active_traces = 0\n",
				"    index = np.where(times==time)[0][0]\n",
				"    print('index = {0}'.format(index))\n",
				"    for i in range(number_of_traces):\n",
				"        print('trace #{0}'.format(i))\n",
				"        trace = first_station_data[i]\n",
				"        if trace.data[index] != None:\n",
				"            print('trace data = {0}'.format(trace.data[index]))\n",
				"            number_of_active_traces+=1\n",
				"            print('number of active traces = {0}'.format(number_of_active_traces))\n",
				"    stats_list.append((time, number_of_active_traces))"
			]
		}
	],
	"metadata": {
		"kernelspec": {
			"display_name": "Python 3",
			"language": "python",
			"name": "python3"
		},
		"language_info": {
			"codemirror_mode": {
				"name": "ipython",
				"version": 3
			},
			"file_extension": ".py",
			"mimetype": "text/x-python",
			"name": "python",
			"nbconvert_exporter": "python",
			"pygments_lexer": "ipython3",
			"version": "3.6.5"
		}
	},
	"nbformat": 4,
	"nbformat_minor": 2
}