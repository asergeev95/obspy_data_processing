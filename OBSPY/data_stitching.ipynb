{
 "cells": [
  {
   "cell_type": "code",
   "execution_count": 1,
   "metadata": {},
   "outputs": [],
   "source": [
    "from obspy import read\n",
    "from obspy.core import UTCDateTime\n",
    "from obspy.core.stream import Stream"
   ]
  },
  {
   "cell_type": "code",
   "execution_count": 2,
   "metadata": {},
   "outputs": [],
   "source": [
    "min_filtering_frequency = 0.1\n",
    "max_filtering_frequency = 30\n",
    "\n",
    "root_folder = \"data/\"\n",
    "ud01_data_folder_path = root_folder+\"UD01\"\n",
    "ud02_data_folder_path = root_folder+\"UD02\"\n",
    "ud03_data_folder_path = root_folder+\"UD03\"\n",
    "ud04_data_folder_path = root_folder+\"UD04\"\n",
    "\n",
    "directions_data_folders = [\"6d97e2\", \"6d97n2\", \"6d97z2\"]"
   ]
  },
  {
   "cell_type": "code",
   "execution_count": 3,
   "metadata": {},
   "outputs": [],
   "source": [
    "def process_station_data(station_data_folder):\n",
    "    import os \n",
    "    station_data = Stream()\n",
    "    for direction in directions_data_folders:\n",
    "        data_folder = station_data_folder+\"/\"+direction\n",
    "        for filename in os.listdir(data_folder):\n",
    "            station_data+=read(data_folder+\"/\"+filename)\n",
    "            \n",
    "    return station_data"
   ]
  },
  {
   "cell_type": "code",
   "execution_count": 4,
   "metadata": {},
   "outputs": [
    {
     "name": "stderr",
     "output_type": "stream",
     "text": [
      "C:\\ProgramData\\Anaconda3\\lib\\site-packages\\obspy\\signal\\detrend.py:31: FutureWarning: Conversion of the second argument of issubdtype from `float` to `np.floating` is deprecated. In future, it will be treated as `np.float64 == np.dtype(float).type`.\n",
      "  if not np.issubdtype(data.dtype, float):\n"
     ]
    },
    {
     "data": {
      "text/plain": [
       "<Figure size 800x3000 with 12 Axes>"
      ]
     },
     "metadata": {},
     "output_type": "display_data"
    }
   ],
   "source": [
    "first_station_data = process_station_data(ud01_data_folder_path)\n",
    "first_station_data += process_station_data(ud02_data_folder_path)\n",
    "first_station_data += process_station_data(ud03_data_folder_path)\n",
    "first_station_data += process_station_data(ud04_data_folder_path)\n",
    "\n",
    "first_station_data.detrend().filter(\"bandpass\", freqmin=min_filtering_frequency, freqmax=max_filtering_frequency)\n",
    "first_station_data.plot()"
   ]
  },
  {
   "cell_type": "code",
   "execution_count": null,
   "metadata": {},
   "outputs": [],
   "source": []
  }
 ],
 "metadata": {
  "kernelspec": {
   "display_name": "Python 3",
   "language": "python",
   "name": "python3"
  },
  "language_info": {
   "codemirror_mode": {
    "name": "ipython",
    "version": 3
   },
   "file_extension": ".py",
   "mimetype": "text/x-python",
   "name": "python",
   "nbconvert_exporter": "python",
   "pygments_lexer": "ipython3",
   "version": "3.6.5"
  }
 },
 "nbformat": 4,
 "nbformat_minor": 2
}
