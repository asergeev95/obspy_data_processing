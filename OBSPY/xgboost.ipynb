{
 "cells": [
  {
   "cell_type": "code",
   "execution_count": 1,
   "metadata": {},
   "outputs": [],
   "source": [
    "from xgboost import XGBClassifier\n",
    "from obspy import read\n",
    "import os\n",
    "import sys\n",
    "import numpy as np\n",
    "import pandas as pd\n",
    "from obspy.core import UTCDateTime\n",
    "from shutil import copyfile\n",
    "from sklearn.model_selection import train_test_split\n",
    "from sklearn.metrics import mean_squared_error, accuracy_score\n"
   ]
  },
  {
   "cell_type": "code",
   "execution_count": 2,
   "metadata": {},
   "outputs": [],
   "source": [
    "# root = \"E:\\\\obspy_data_processing\\\\OBSPY\\\\automatic_triggers_long_20190408_pics_cleared\"\n",
    "# msdroot = \"E:\\\\obspy_data_processing\\\\OBSPY\\\\automatic_triggers_long_20190408\"\n",
    "# for filename in os.listdir(root):\n",
    "#     copyfile(msdroot+\"\\\\\"+filename.replace(\".png\", \"\"), \"copied\\\\\"+filename.replace(\".png\", \"\"))"
   ]
  },
  {
   "cell_type": "code",
   "execution_count": 2,
   "metadata": {},
   "outputs": [],
   "source": [
    "def moving_average(l, N):\n",
    "    sum = 0\n",
    "    result = list( 0 for x in l)\n",
    " \n",
    "    for i in range( 0, N ):\n",
    "        sum = sum + l[i]\n",
    "        result[i] = sum / (i+1)\n",
    " \n",
    "    for i in range( N, len(l) ):\n",
    "        sum = sum - l[i-N] + l[i]\n",
    "        result[i] = sum / N\n",
    " \n",
    "    return np.array(result)\n",
    "def msd_straight_forward(r):\n",
    "    shifts = np.arange(len(r))\n",
    "    msds = np.zeros(shifts.size)    \n",
    "\n",
    "    for i, shift in enumerate(shifts):\n",
    "        diffs = r[:-shift if shift else None] - r[shift:]\n",
    "        sqdist = np.square(diffs).sum(axis=1)\n",
    "        msds[i] = sqdist.mean()\n",
    "\n",
    "    return msds"
   ]
  },
  {
   "cell_type": "code",
   "execution_count": 3,
   "metadata": {},
   "outputs": [],
   "source": [
    "# data_folder = \"E:\\\\obspy_data_processing\\\\OBSPY\\\\triggers\\\\new_triggers_upd\"\n",
    "data_folder = \"E:\\\\obspy_data_processing\\\\OBSPY\\\\copied\""
   ]
  },
  {
   "cell_type": "code",
   "execution_count": 4,
   "metadata": {
    "scrolled": true
   },
   "outputs": [
    {
     "name": "stdout",
     "output_type": "stream",
     "text": [
      "trigger—20180506T010847770000Z.msd\n",
      "trigger—20180506T075344000000Z.msd\n",
      "trigger—20180506T132213620000Z.msd\n",
      "trigger—20180506T221546510000Z.msd\n",
      "trigger—20180506T231944510000Z.msd\n",
      "trigger—20180507T013028040000Z.msd\n",
      "trigger—20180507T043224730000Z.msd\n",
      "trigger—20180507T061313560000Z.msd\n",
      "trigger—20180507T124727350000Z.msd\n",
      "trigger—20180507T140932100000Z.msd\n",
      "trigger—20180507T194552220000Z.msd\n",
      "trigger—20180507T224946600000Z.msd\n",
      "trigger—20180508T011058800000Z.msd\n",
      "trigger—20180508T084739940000Z.msd\n",
      "trigger—20180508T113234810000Z.msd\n",
      "trigger—20180508T122231200000Z.msd\n",
      "trigger—20180508T122427840000Z.msd\n",
      "trigger—20180508T134636050000Z.msd\n",
      "trigger—20180508T135818600000Z.msd\n",
      "trigger—20180508T195141080000Z.msd\n",
      "trigger—20180508T202714200000Z.msd\n",
      "trigger—20180509T062051600000Z.msd\n",
      "trigger—20180509T233729980000Z.msd\n",
      "trigger—20180510T091532610000Z.msd\n",
      "trigger—20180510T092403430000Z.msd\n",
      "trigger—20180510T092546600000Z.msd\n",
      "trigger—20180510T100846160000Z.msd\n",
      "trigger—20180510T155115790000Z.msd\n",
      "trigger—20180511T073708980000Z.msd\n",
      "trigger—20180511T174311680000Z.msd\n",
      "trigger—20180511T182155080000Z.msd\n",
      "trigger—20180511T184025690000Z.msd\n",
      "trigger—20180511T184303260000Z.msd\n",
      "trigger—20180511T185839280000Z.msd\n",
      "trigger—20180512T180018440000Z.msd\n",
      "trigger—20180513T073514800000Z.msd\n",
      "trigger—20180513T235910200000Z.msd\n",
      "trigger—20180514T054059410000Z.msd\n",
      "trigger—20180514T141139250000Z.msd\n",
      "trigger—20180514T215957950000Z.msd\n",
      "trigger—20180515T090439910000Z.msd\n",
      "trigger—20180515T143106090000Z.msd\n",
      "trigger—20180515T175332090000Z.msd\n",
      "trigger—20180516T135040840000Z.msd\n",
      "trigger—20180518T145117510000Z.msd\n",
      "trigger—20180518T230930850000Z.msd\n",
      "trigger—20180519T060111430000Z.msd\n",
      "trigger—20180520T112412670000Z.msd\n"
     ]
    }
   ],
   "source": [
    "dataset = list()\n",
    "for filename in os.listdir(data_folder)[:48]:\n",
    "# for filename in os.listdir(data_folder)[:48]:\n",
    "#     if filename.endswith(\"-cutted.msd\"):\n",
    "        print(filename)\n",
    "        stream = read(data_folder+\"\\\\\" + filename)\n",
    "        label = filename[8:23]\n",
    "        \n",
    "        date = label[0:4]+label[4:6]+label[6:8]+\"T\"+label[9:11]+\":\"+label[11:13]+\":\"+label[13:15]\n",
    "#         label = filename[15:29]\n",
    "#         date = label[0:4]+label[4:6]+label[6:8]+\"T\"+label[8:10]+\":\"+label[10:12]+\":\"+label[12:14]\n",
    "        try:\n",
    "            peak_time = UTCDateTime(date)\n",
    "        except:\n",
    "            print (\"Unexpected error:\", sys.exc_info()[0])\n",
    "            continue\n",
    "        trace_times = [x.datetime.timestamp() for x in stream[0].times(\"utcdatetime\")]\n",
    "        trace_times_np = np.asarray(trace_times, dtype=np.int64)\n",
    "        \n",
    "        try:\n",
    "            #ищем ближайший к событию индекс в массиве времён \n",
    "            idx = (np.abs(trace_times_np - peak_time.datetime.timestamp())).argmin()\n",
    "        except:\n",
    "            print (\"Unexpected error:\", sys.exc_info()[0])\n",
    "        for trace in stream:\n",
    "            l = list(trace.data)\n",
    "            ma = moving_average(l, 30)\n",
    "            mean = np.mean(trace.data)\n",
    "            msd = [abs(mean - x ) for x in trace.data]\n",
    "            for item in trace.data:\n",
    "                try:\n",
    "                    index = np.where(trace.data==item)[0][0]\n",
    "                except:\n",
    "                    print (\"Unexpected error:\", sys.exc_info()[0])\n",
    "\n",
    "                if index != idx:\n",
    "                   \n",
    "                    dataset.append({'X':item, 'SUM':np.sum(trace.data), 'MA': ma[index], 'MSD': msd[index], 'DATE':np.int64(trace_times[index]), 'Y': 0})\n",
    "                else:\n",
    "                    dataset.append({'X':item, 'SUM':np.sum(trace.data), 'MA': ma[index], 'MSD': msd[index], 'DATE':np.int64(trace_times[index]), 'Y': 1})\n",
    "#         break"
   ]
  },
  {
   "cell_type": "code",
   "execution_count": null,
   "metadata": {},
   "outputs": [],
   "source": [
    "df = pd.DataFrame(dataset)"
   ]
  },
  {
   "cell_type": "code",
   "execution_count": null,
   "metadata": {},
   "outputs": [],
   "source": [
    "X_with_date = df[['X', 'SUM', 'MA', 'MSD', 'DATE']]\n",
    "X = df[['X', 'SUM', 'MA', 'MSD']]\n",
    "Y = df['Y'].tolist()"
   ]
  },
  {
   "cell_type": "code",
   "execution_count": null,
   "metadata": {},
   "outputs": [],
   "source": [
    "seed = 7\n",
    "test_size = 0.33\n",
    "X_train, X_test, y_train, y_test = train_test_split(X, Y, test_size=test_size, random_state = seed)"
   ]
  },
  {
   "cell_type": "code",
   "execution_count": null,
   "metadata": {},
   "outputs": [],
   "source": [
    "clf = XGBClassifier(scale_pos_weight = 4500)\n",
    "clf.fit(X_train, y_train, verbose=True)"
   ]
  },
  {
   "cell_type": "code",
   "execution_count": 40,
   "metadata": {},
   "outputs": [
    {
     "name": "stderr",
     "output_type": "stream",
     "text": [
      "C:\\ProgramData\\Anaconda3\\lib\\site-packages\\sklearn\\preprocessing\\label.py:151: DeprecationWarning: The truth value of an empty array is ambiguous. Returning False, but in future this will result in an error. Use `array.size > 0` to check that an array is not empty.\n",
      "  if diff:\n"
     ]
    },
    {
     "data": {
      "text/plain": [
       "820173"
      ]
     },
     "execution_count": 40,
     "metadata": {},
     "output_type": "execute_result"
    }
   ],
   "source": [
    "pred = clf.predict(X_train)\n",
    "np.sum(pred)"
   ]
  },
  {
   "cell_type": "code",
   "execution_count": 35,
   "metadata": {},
   "outputs": [
    {
     "data": {
      "text/plain": [
       "1653173"
      ]
     },
     "execution_count": 35,
     "metadata": {},
     "output_type": "execute_result"
    }
   ],
   "source": [
    "len(pred)"
   ]
  },
  {
   "cell_type": "code",
   "execution_count": 41,
   "metadata": {},
   "outputs": [
    {
     "data": {
      "text/plain": [
       "820173"
      ]
     },
     "execution_count": 41,
     "metadata": {},
     "output_type": "execute_result"
    }
   ],
   "source": [
    "np.sum(pred)"
   ]
  },
  {
   "cell_type": "code",
   "execution_count": 38,
   "metadata": {},
   "outputs": [
    {
     "data": {
      "text/plain": [
       "381"
      ]
     },
     "execution_count": 38,
     "metadata": {},
     "output_type": "execute_result"
    }
   ],
   "source": [
    "np.sum(y_test)"
   ]
  },
  {
   "cell_type": "code",
   "execution_count": 42,
   "metadata": {},
   "outputs": [
    {
     "data": {
      "text/plain": [
       "0.7557653346998605"
      ]
     },
     "execution_count": 42,
     "metadata": {},
     "output_type": "execute_result"
    }
   ],
   "source": [
    "accuracy_score(y_train, pred)"
   ]
  },
  {
   "cell_type": "code",
   "execution_count": 19,
   "metadata": {},
   "outputs": [
    {
     "data": {
      "text/plain": [
       "5009613"
      ]
     },
     "execution_count": 19,
     "metadata": {},
     "output_type": "execute_result"
    }
   ],
   "source": [
    "len(X)"
   ]
  },
  {
   "cell_type": "code",
   "execution_count": null,
   "metadata": {},
   "outputs": [],
   "source": []
  }
 ],
 "metadata": {
  "kernelspec": {
   "display_name": "Python 3",
   "language": "python",
   "name": "python3"
  },
  "language_info": {
   "codemirror_mode": {
    "name": "ipython",
    "version": 3
   },
   "file_extension": ".py",
   "mimetype": "text/x-python",
   "name": "python",
   "nbconvert_exporter": "python",
   "pygments_lexer": "ipython3",
   "version": "3.6.5"
  }
 },
 "nbformat": 4,
 "nbformat_minor": 2
}
