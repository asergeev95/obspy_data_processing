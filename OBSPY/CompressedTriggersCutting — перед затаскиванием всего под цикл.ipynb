{
 "cells": [
  {
   "cell_type": "code",
   "execution_count": 1,
   "metadata": {},
   "outputs": [],
   "source": [
    "import numpy as np\n",
    "import pandas as pd\n",
    "import matplotlib.pyplot as plt\n",
    "from obspy import read\n",
    "from obspy.core import UTCDateTime\n",
    "from obspy.core.stream import Stream\n",
    "from SeismicData import SeismicData"
   ]
  },
  {
   "cell_type": "code",
   "execution_count": 2,
   "metadata": {},
   "outputs": [],
   "source": [
    "root_folder = \"E:\\\\UDINA_2018\\\\miniSEED\"\n",
    "ud01_data_folder_path = root_folder+\"\\\\UD01\"\n",
    "ud02_data_folder_path = root_folder+\"\\\\UD02\"\n",
    "ud03_data_folder_path = root_folder+\"\\\\UD03\"\n",
    "ud04_data_folder_path = root_folder+\"\\\\UD04\"\n",
    "\n",
    "directions_data_folders = [\"6d97e2\", \"6d97n2\", \"6d97z2\"]"
   ]
  },
  {
   "cell_type": "code",
   "execution_count": 3,
   "metadata": {},
   "outputs": [],
   "source": [
    "def process_station_data(station_data_folder, file_num):\n",
    "    import os \n",
    "    station_data = Stream()\n",
    "    for direction in directions_data_folders:\n",
    "        direction_stream = Stream()\n",
    "        data_folder = station_data_folder+\"\\\\\"+direction\n",
    "        for filename in (os.listdir(data_folder))[file_num:file_num+10]:\n",
    "            input_stream=read(data_folder+\"\\\\\"+filename)\n",
    "            direction_stream += input_stream\n",
    "        direction_stream.merge(fill_value=0)\n",
    "        station_data+=direction_stream\n",
    "    return station_data\n",
    "\n",
    "def square_sum (seismic_data):\n",
    "    square_sum = list()\n",
    "    for i, time in enumerate(seismic_data.times):\n",
    "        summ = np.float64(0)\n",
    "        for trace in seismic_data.traces:\n",
    "            summ+=trace[i]*trace[i]\n",
    "        summ /= seismic_data.alive_traces_count[i]\n",
    "        square_sum.append((time, summ))\n",
    "    return square_sum\n",
    "\n",
    "def union_close_times(times):\n",
    "    united_times = []\n",
    "    for i in range(len(times)):\n",
    "        if times[i].minute - times[i-1].minute < 1:\n",
    "            continue\n",
    "        else:\n",
    "            united_times.append(times[i])\n",
    "    \n",
    "    return united_times\n",
    "def moving_average(a, n):\n",
    "    ret = np.cumsum(a, dtype=float)\n",
    "    ret[n:] = ret[n:] - ret[:-n]\n",
    "    return ret[n - 1:] / n"
   ]
  },
  {
   "cell_type": "code",
   "execution_count": 4,
   "metadata": {},
   "outputs": [
    {
     "name": "stderr",
     "output_type": "stream",
     "text": [
      "C:\\ProgramData\\Anaconda3\\lib\\site-packages\\obspy\\signal\\detrend.py:31: FutureWarning: Conversion of the second argument of issubdtype from `float` to `np.floating` is deprecated. In future, it will be treated as `np.float64 == np.dtype(float).type`.\n",
      "  if not np.issubdtype(data.dtype, float):\n"
     ]
    },
    {
     "name": "stdout",
     "output_type": "stream",
     "text": [
      "Wall time: 30.8 s\n"
     ]
    }
   ],
   "source": [
    "%%time\n",
    "file_num = 10\n",
    "station_data = process_station_data(ud01_data_folder_path, file_num)\n",
    "station_data += process_station_data(ud02_data_folder_path, file_num)\n",
    "station_data += process_station_data(ud03_data_folder_path, file_num)\n",
    "station_data += process_station_data(ud04_data_folder_path, file_num)\n",
    "\n",
    "min_filtering_frequency = 0.1\n",
    "max_filtering_frequency = 30\n",
    "station_data = station_data.detrend()\n",
    "station_data = station_data.filter(\"bandpass\", freqmin=min_filtering_frequency,freqmax = max_filtering_frequency)\n",
    "\n"
   ]
  },
  {
   "cell_type": "code",
   "execution_count": 5,
   "metadata": {},
   "outputs": [
    {
     "name": "stdout",
     "output_type": "stream",
     "text": [
      "Station data preprocessing...\n",
      "max trace = .6D97..HHE | 2018-05-06T10:00:00.000000Z - 2018-05-06T19:59:59.990000Z | 100.0 Hz, 3600000 samples\n",
      "max trace times = [UTCDateTime(2018, 5, 6, 10, 0) UTCDateTime(2018, 5, 6, 10, 0, 0, 10000)\n",
      " UTCDateTime(2018, 5, 6, 10, 0, 0, 20000) ...\n",
      " UTCDateTime(2018, 5, 6, 19, 59, 59, 970000)\n",
      " UTCDateTime(2018, 5, 6, 19, 59, 59, 980000)\n",
      " UTCDateTime(2018, 5, 6, 19, 59, 59, 990000)]\n",
      "Trace preprocessing...\n",
      "Trace preprocessing finished\n",
      "Trace preprocessing...\n",
      "Trace preprocessing finished\n",
      "Trace preprocessing...\n",
      "Trace preprocessing finished\n",
      "Trace preprocessing...\n",
      "Trace preprocessing finished\n",
      "Trace preprocessing...\n",
      "Trace preprocessing finished\n",
      "Trace preprocessing...\n",
      "Trace preprocessing finished\n",
      "Trace preprocessing...\n",
      "Trace preprocessing finished\n",
      "Trace preprocessing...\n",
      "Trace preprocessing finished\n",
      "Trace preprocessing...\n",
      "Trace preprocessing finished\n",
      "Trace preprocessing...\n",
      "Trace preprocessing finished\n",
      "Trace preprocessing...\n",
      "Trace preprocessing finished\n",
      "Trace preprocessing...\n",
      "Trace preprocessing finished\n",
      "Calculating number of alive traces...\n",
      "Calculating number of alive traces finished\n",
      "Station data preprocessing finished\n",
      "Wall time: 2min 51s\n"
     ]
    }
   ],
   "source": [
    "%%time\n",
    "seismic_data = SeismicData(station_data)\n",
    "squareSum = square_sum(seismic_data)\n",
    "x = list()\n",
    "y = list()\n",
    "\n",
    "for item in squareSum:\n",
    "    x.append(item[0])\n",
    "    y.append(item[1])\n",
    "\n",
    "m=2250\n",
    "x_av = np.asarray(x.copy())\n",
    "y_av = moving_average(y.copy(), m)\n",
    "x_av = x_av[:len(y_av)]"
   ]
  },
  {
   "cell_type": "code",
   "execution_count": 6,
   "metadata": {},
   "outputs": [
    {
     "name": "stdout",
     "output_type": "stream",
     "text": [
      "len peaks = 6\n"
     ]
    }
   ],
   "source": [
    "from scipy.signal import find_peaks\n",
    "peaks, _ = find_peaks(y_av, height=0.08e8)\n",
    "print('len peaks = {}'.format(len(peaks)))\n",
    "lpeaks = np.asarray(peaks)\n",
    "x_av = np.asarray(x_av)"
   ]
  },
  {
   "cell_type": "code",
   "execution_count": 17,
   "metadata": {},
   "outputs": [
    {
     "name": "stdout",
     "output_type": "stream",
     "text": [
      "[UTCDateTime(2018, 5, 6, 11, 39, 49, 90000), UTCDateTime(2018, 5, 6, 13, 21, 43, 450000)]\n"
     ]
    }
   ],
   "source": [
    "times = station_data[0].times(\"utcdatetime\")\n",
    "peaks_times = times[lpeaks]\n",
    "filtered_times = union_close_times(peaks_times)\n",
    "filtered_times.append(peaks_times[len(peaks_times)-1])\n",
    "print(filtered_times)"
   ]
  },
  {
   "cell_type": "code",
   "execution_count": 13,
   "metadata": {},
   "outputs": [],
   "source": [
    "new = [x.datetime.strftime(\"%Y-%m-%d %H:%M:%S\") for x in  x_av[::120000]]\n",
    "xi = [i for i in range(0, len(new))]\n",
    "y = np.random.rand(len(xi))"
   ]
  },
  {
   "cell_type": "code",
   "execution_count": 14,
   "metadata": {},
   "outputs": [
    {
     "data": {
      "text/plain": [
       "['2018-05-06 10:00:00',\n",
       " '2018-05-06 10:20:00',\n",
       " '2018-05-06 10:40:00',\n",
       " '2018-05-06 11:00:00',\n",
       " '2018-05-06 11:20:00',\n",
       " '2018-05-06 11:40:00',\n",
       " '2018-05-06 12:00:00',\n",
       " '2018-05-06 12:20:00',\n",
       " '2018-05-06 12:40:00',\n",
       " '2018-05-06 13:00:00',\n",
       " '2018-05-06 13:20:00',\n",
       " '2018-05-06 13:40:00',\n",
       " '2018-05-06 14:00:00',\n",
       " '2018-05-06 14:20:00',\n",
       " '2018-05-06 14:40:00',\n",
       " '2018-05-06 15:00:00',\n",
       " '2018-05-06 15:20:00',\n",
       " '2018-05-06 15:40:00',\n",
       " '2018-05-06 16:00:00',\n",
       " '2018-05-06 16:20:00',\n",
       " '2018-05-06 16:40:00',\n",
       " '2018-05-06 17:00:00',\n",
       " '2018-05-06 17:20:00',\n",
       " '2018-05-06 17:40:00',\n",
       " '2018-05-06 18:00:00',\n",
       " '2018-05-06 18:20:00',\n",
       " '2018-05-06 18:40:00',\n",
       " '2018-05-06 19:00:00',\n",
       " '2018-05-06 19:20:00',\n",
       " '2018-05-06 19:40:00']"
      ]
     },
     "execution_count": 14,
     "metadata": {},
     "output_type": "execute_result"
    }
   ],
   "source": [
    "new"
   ]
  },
  {
   "cell_type": "code",
   "execution_count": 21,
   "metadata": {
    "scrolled": true
   },
   "outputs": [
    {
     "name": "stderr",
     "output_type": "stream",
     "text": [
      "No handles with labels found to put in legend.\n"
     ]
    },
    {
     "data": {
      "image/png": "[encoded data removed]",
      "text/plain": [
       "<Figure size 2160x720 with 1 Axes>"
      ]
     },
     "metadata": {},
     "output_type": "display_data"
    }
   ],
   "source": [
    "import matplotlib.pyplot as plt\n",
    "# create an index for each tick position\n",
    "plt.figure(figsize=(30,10))\n",
    "plt.xlabel('x')\n",
    "plt.ylabel('y') \n",
    "plt.xticks(xi, new, rotation=90)\n",
    "plt.title('compare')\n",
    "plt.legend() \n",
    "plt.plot(xi, y_av[::120000], marker='.', linestyle='--', color='r', label='Square') \n",
    "plt.savefig('test_lbl_123')"
   ]
  },
  {
   "cell_type": "code",
   "execution_count": 17,
   "metadata": {},
   "outputs": [
    {
     "data": {
      "text/plain": [
       "<Figure size 432x288 with 0 Axes>"
      ]
     },
     "metadata": {},
     "output_type": "display_data"
    }
   ],
   "source": [
    "plt.savefig('test_lbl.png')"
   ]
  },
  {
   "cell_type": "code",
   "execution_count": null,
   "metadata": {},
   "outputs": [],
   "source": [
    "from matplotlib import pyplot as plt\n",
    "plt.figure(figsize=(30,10))\n",
    "plt.plot(x_av,y_av)\n",
    "plt.xlabel('x')\n",
    "plt.ylabel('y') \n",
    "\n",
    "#plt.xticks(x_av, new)\n",
    "#plt.plot(x_av[lpeaks], y_av[lpeaks], \"x\")\n",
    "plt.show()"
   ]
  },
  {
   "cell_type": "code",
   "execution_count": 18,
   "metadata": {},
   "outputs": [
    {
     "name": "stdout",
     "output_type": "stream",
     "text": [
      "ind: 598909\n",
      "trimed: 12 Trace(s) in Stream:\n",
      ".6D97..HHE | 2018-05-06T11:39:34.090000Z - 2018-05-06T11:40:19.090000Z | 100.0 Hz, 4501 samples\n",
      ".6D97..HHN | 2018-05-06T11:39:34.090000Z - 2018-05-06T11:40:19.090000Z | 100.0 Hz, 4501 samples\n",
      ".6D97..HHZ | 2018-05-06T11:39:34.090000Z - 2018-05-06T11:40:19.090000Z | 100.0 Hz, 4501 samples\n",
      ".6D98..HHE | 2018-05-06T11:39:34.090000Z - 2018-05-06T11:40:19.090000Z | 100.0 Hz, 4501 samples\n",
      ".6D98..HHN | 2018-05-06T11:39:34.090000Z - 2018-05-06T11:40:19.090000Z | 100.0 Hz, 4501 samples\n",
      ".6D98..HHZ | 2018-05-06T11:39:34.090000Z - 2018-05-06T11:40:19.090000Z | 100.0 Hz, 4501 samples\n",
      ".6E02..HHE | 2018-05-06T11:39:34.090000Z - 2018-05-06T11:40:19.090000Z | 100.0 Hz, 4501 samples\n",
      ".6E02..HHN | 2018-05-06T11:39:34.090000Z - 2018-05-06T11:40:19.090000Z | 100.0 Hz, 4501 samples\n",
      ".6E02..HHZ | 2018-05-06T11:39:34.090000Z - 2018-05-06T11:40:19.090000Z | 100.0 Hz, 4501 samples\n",
      ".6E09..HHE | 2018-05-06T11:39:34.090000Z - 2018-05-06T11:40:19.090000Z | 100.0 Hz, 4501 samples\n",
      ".6E09..HHN | 2018-05-06T11:39:34.090000Z - 2018-05-06T11:40:19.090000Z | 100.0 Hz, 4501 samples\n",
      ".6E09..HHZ | 2018-05-06T11:39:34.090000Z - 2018-05-06T11:40:19.090000Z | 100.0 Hz, 4501 samples\n"
     ]
    },
    {
     "name": "stderr",
     "output_type": "stream",
     "text": [
      "C:\\ProgramData\\Anaconda3\\lib\\site-packages\\obspy\\io\\mseed\\core.py:772: UserWarning: The encoding specified in trace.stats.mseed.encoding does not match the dtype of the data.\n",
      "A suitable encoding will be chosen.\n",
      "  warnings.warn(msg, UserWarning)\n"
     ]
    },
    {
     "name": "stdout",
     "output_type": "stream",
     "text": [
      "ind: 1210345\n",
      "trimed: 12 Trace(s) in Stream:\n",
      ".6D97..HHE | 2018-05-06T13:21:28.450000Z - 2018-05-06T13:22:13.450000Z | 100.0 Hz, 4501 samples\n",
      ".6D97..HHN | 2018-05-06T13:21:28.450000Z - 2018-05-06T13:22:13.450000Z | 100.0 Hz, 4501 samples\n",
      ".6D97..HHZ | 2018-05-06T13:21:28.450000Z - 2018-05-06T13:22:13.450000Z | 100.0 Hz, 4501 samples\n",
      ".6D98..HHE | 2018-05-06T13:21:28.450000Z - 2018-05-06T13:22:13.450000Z | 100.0 Hz, 4501 samples\n",
      ".6D98..HHN | 2018-05-06T13:21:28.450000Z - 2018-05-06T13:22:13.450000Z | 100.0 Hz, 4501 samples\n",
      ".6D98..HHZ | 2018-05-06T13:21:28.450000Z - 2018-05-06T13:22:13.450000Z | 100.0 Hz, 4501 samples\n",
      ".6E02..HHE | 2018-05-06T13:21:28.450000Z - 2018-05-06T13:22:13.450000Z | 100.0 Hz, 4501 samples\n",
      ".6E02..HHN | 2018-05-06T13:21:28.450000Z - 2018-05-06T13:22:13.450000Z | 100.0 Hz, 4501 samples\n",
      ".6E02..HHZ | 2018-05-06T13:21:28.450000Z - 2018-05-06T13:22:13.450000Z | 100.0 Hz, 4501 samples\n",
      ".6E09..HHE | 2018-05-06T13:21:28.450000Z - 2018-05-06T13:22:13.450000Z | 100.0 Hz, 4501 samples\n",
      ".6E09..HHN | 2018-05-06T13:21:28.450000Z - 2018-05-06T13:22:13.450000Z | 100.0 Hz, 4501 samples\n",
      ".6E09..HHZ | 2018-05-06T13:21:28.450000Z - 2018-05-06T13:22:13.450000Z | 100.0 Hz, 4501 samples\n"
     ]
    }
   ],
   "source": [
    "for i in range(len(filtered_times)):\n",
    "    f_time = filtered_times[i]\n",
    "    ind = np.where(times==f_time)[0][0]\n",
    "    print('ind: {0}'.format(ind))\n",
    "    startInd = ind - 1500\n",
    "    endInd = ind + 3000\n",
    "    copy = station_data.copy()\n",
    "    trimed = copy.trim(starttime=times[startInd], endtime=times[endInd])\n",
    "    print('trimed: {0}'.format(trimed))\n",
    "    trimed.write(\"test{0}.msd\".format(ind), format=\"MSEED\")"
   ]
  },
  {
   "cell_type": "code",
   "execution_count": null,
   "metadata": {},
   "outputs": [],
   "source": []
  }
 ],
 "metadata": {
  "kernelspec": {
   "display_name": "Python 3",
   "language": "python",
   "name": "python3"
  },
  "language_info": {
   "codemirror_mode": {
    "name": "ipython",
    "version": 3
   },
   "file_extension": ".py",
   "mimetype": "text/x-python",
   "name": "python",
   "nbconvert_exporter": "python",
   "pygments_lexer": "ipython3",
   "version": "3.6.5"
  }
 },
 "nbformat": 4,
 "nbformat_minor": 2
}
